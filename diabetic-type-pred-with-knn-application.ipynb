{
 "cells": [
  {
   "cell_type": "markdown",
   "id": "ee56fffe",
   "metadata": {
    "_cell_guid": "b1076dfc-b9ad-4769-8c92-a6c4dae69d19",
    "_uuid": "8f2839f25d086af736a60e9eeb907d3b93b6e0e5",
    "execution": {
     "iopub.execute_input": "2022-12-02T01:40:19.179972Z",
     "iopub.status.busy": "2022-12-02T01:40:19.179515Z",
     "iopub.status.idle": "2022-12-02T01:40:19.188998Z",
     "shell.execute_reply": "2022-12-02T01:40:19.187276Z",
     "shell.execute_reply.started": "2022-12-02T01:40:19.179938Z"
    },
    "papermill": {
     "duration": 0.010265,
     "end_time": "2022-12-02T02:59:03.449176",
     "exception": false,
     "start_time": "2022-12-02T02:59:03.438911",
     "status": "completed"
    },
    "tags": []
   },
   "source": [
    "# Calling all dependencies for this project "
   ]
  },
  {
   "cell_type": "code",
   "execution_count": 1,
   "id": "b71d07a9",
   "metadata": {
    "execution": {
     "iopub.execute_input": "2022-12-02T02:59:03.469299Z",
     "iopub.status.busy": "2022-12-02T02:59:03.468677Z",
     "iopub.status.idle": "2022-12-02T02:59:04.830321Z",
     "shell.execute_reply": "2022-12-02T02:59:04.829246Z"
    },
    "papermill": {
     "duration": 1.374904,
     "end_time": "2022-12-02T02:59:04.833122",
     "exception": false,
     "start_time": "2022-12-02T02:59:03.458218",
     "status": "completed"
    },
    "tags": []
   },
   "outputs": [],
   "source": [
    "import pandas as pd \n",
    "import numpy as np\n",
    "import matplotlib.pyplot as plt \n",
    "import seaborn as sns\n",
    "\n",
    "from sklearn.model_selection import train_test_split\n",
    "\n",
    "## Importing K-NearestNeighbor Classifier \n",
    "from sklearn.neighbors import KNeighborsClassifier\n",
    "\n",
    "from sklearn import metrics \n",
    "from sklearn.metrics import accuracy_score\n",
    "from sklearn.metrics import r2_score\n",
    "from sklearn.metrics import confusion_matrix\n",
    "from sklearn.metrics import classification_report\n",
    "from sklearn.preprocessing import StandardScaler\n"
   ]
  },
  {
   "cell_type": "markdown",
   "id": "ee093786",
   "metadata": {
    "papermill": {
     "duration": 0.008516,
     "end_time": "2022-12-02T02:59:04.850653",
     "exception": false,
     "start_time": "2022-12-02T02:59:04.842137",
     "status": "completed"
    },
    "tags": []
   },
   "source": [
    "# Reading and exploring the dataset\n",
    "\n",
    "* Below we start by opening the subjected dataset using pandas syntax csv_read() which read the dataset and transform it to a structured tabular data for us to read."
   ]
  },
  {
   "cell_type": "code",
   "execution_count": 2,
   "id": "8738d978",
   "metadata": {
    "execution": {
     "iopub.execute_input": "2022-12-02T02:59:04.870588Z",
     "iopub.status.busy": "2022-12-02T02:59:04.870188Z",
     "iopub.status.idle": "2022-12-02T02:59:04.911114Z",
     "shell.execute_reply": "2022-12-02T02:59:04.910055Z"
    },
    "papermill": {
     "duration": 0.054425,
     "end_time": "2022-12-02T02:59:04.913877",
     "exception": false,
     "start_time": "2022-12-02T02:59:04.859452",
     "status": "completed"
    },
    "tags": []
   },
   "outputs": [],
   "source": [
    "dataset = pd.read_csv(\"/kaggle/input/diabetic2types/MyProject_2.csv\")"
   ]
  },
  {
   "cell_type": "markdown",
   "id": "1078618a",
   "metadata": {
    "papermill": {
     "duration": 0.008657,
     "end_time": "2022-12-02T02:59:04.933051",
     "exception": false,
     "start_time": "2022-12-02T02:59:04.924394",
     "status": "completed"
    },
    "tags": []
   },
   "source": [
    "**Gettting the number of rows & columns in the dataset**"
   ]
  },
  {
   "cell_type": "code",
   "execution_count": 3,
   "id": "e1949d57",
   "metadata": {
    "execution": {
     "iopub.execute_input": "2022-12-02T02:59:04.953126Z",
     "iopub.status.busy": "2022-12-02T02:59:04.952700Z",
     "iopub.status.idle": "2022-12-02T02:59:04.961257Z",
     "shell.execute_reply": "2022-12-02T02:59:04.960342Z"
    },
    "papermill": {
     "duration": 0.021086,
     "end_time": "2022-12-02T02:59:04.963690",
     "exception": false,
     "start_time": "2022-12-02T02:59:04.942604",
     "status": "completed"
    },
    "tags": []
   },
   "outputs": [
    {
     "data": {
      "text/plain": [
       "(16969, 11)"
      ]
     },
     "execution_count": 3,
     "metadata": {},
     "output_type": "execute_result"
    }
   ],
   "source": [
    "dataset.shape"
   ]
  },
  {
   "cell_type": "markdown",
   "id": "d131662b",
   "metadata": {
    "papermill": {
     "duration": 0.00857,
     "end_time": "2022-12-02T02:59:04.981210",
     "exception": false,
     "start_time": "2022-12-02T02:59:04.972640",
     "status": "completed"
    },
    "tags": []
   },
   "source": [
    "* DataSet comprises of 16969 observations and 11 fields"
   ]
  },
  {
   "cell_type": "code",
   "execution_count": 4,
   "id": "070a151a",
   "metadata": {
    "execution": {
     "iopub.execute_input": "2022-12-02T02:59:05.000683Z",
     "iopub.status.busy": "2022-12-02T02:59:05.000308Z",
     "iopub.status.idle": "2022-12-02T02:59:05.023303Z",
     "shell.execute_reply": "2022-12-02T02:59:05.022207Z"
    },
    "papermill": {
     "duration": 0.035599,
     "end_time": "2022-12-02T02:59:05.025646",
     "exception": false,
     "start_time": "2022-12-02T02:59:04.990047",
     "status": "completed"
    },
    "tags": []
   },
   "outputs": [
    {
     "data": {
      "text/plain": [
       "(189, 11)"
      ]
     },
     "execution_count": 4,
     "metadata": {},
     "output_type": "execute_result"
    }
   ],
   "source": [
    "dub = dataset.drop_duplicates()\n",
    "dub.shape"
   ]
  },
  {
   "cell_type": "markdown",
   "id": "81ec477a",
   "metadata": {
    "papermill": {
     "duration": 0.009199,
     "end_time": "2022-12-02T02:59:05.043973",
     "exception": false,
     "start_time": "2022-12-02T02:59:05.034774",
     "status": "completed"
    },
    "tags": []
   },
   "source": [
    "* there are duplicated data , We must to solve this problem later to skip any other problems afterbuilding our Model"
   ]
  },
  {
   "cell_type": "markdown",
   "id": "4c643686",
   "metadata": {
    "papermill": {
     "duration": 0.008703,
     "end_time": "2022-12-02T02:59:05.062279",
     "exception": false,
     "start_time": "2022-12-02T02:59:05.053576",
     "status": "completed"
    },
    "tags": []
   },
   "source": [
    "**Viewing Top 5 records of the dataset**"
   ]
  },
  {
   "cell_type": "code",
   "execution_count": 5,
   "id": "6626b43e",
   "metadata": {
    "execution": {
     "iopub.execute_input": "2022-12-02T02:59:05.081846Z",
     "iopub.status.busy": "2022-12-02T02:59:05.081435Z",
     "iopub.status.idle": "2022-12-02T02:59:05.098816Z",
     "shell.execute_reply": "2022-12-02T02:59:05.097667Z"
    },
    "papermill": {
     "duration": 0.029765,
     "end_time": "2022-12-02T02:59:05.101053",
     "exception": false,
     "start_time": "2022-12-02T02:59:05.071288",
     "status": "completed"
    },
    "tags": []
   },
   "outputs": [
    {
     "data": {
      "text/html": [
       "<div>\n",
       "<style scoped>\n",
       "    .dataframe tbody tr th:only-of-type {\n",
       "        vertical-align: middle;\n",
       "    }\n",
       "\n",
       "    .dataframe tbody tr th {\n",
       "        vertical-align: top;\n",
       "    }\n",
       "\n",
       "    .dataframe thead th {\n",
       "        text-align: right;\n",
       "    }\n",
       "</style>\n",
       "<table border=\"1\" class=\"dataframe\">\n",
       "  <thead>\n",
       "    <tr style=\"text-align: right;\">\n",
       "      <th></th>\n",
       "      <th>Age</th>\n",
       "      <th>Insulin</th>\n",
       "      <th>Polycystic ovary syndrome</th>\n",
       "      <th>Obesity</th>\n",
       "      <th>Smoking</th>\n",
       "      <th>breathing difficulty</th>\n",
       "      <th>Acanthosis Nigricans</th>\n",
       "      <th>confusion and difficulty focusing</th>\n",
       "      <th>Coma</th>\n",
       "      <th>Mumps virus</th>\n",
       "      <th>Diabetic</th>\n",
       "    </tr>\n",
       "  </thead>\n",
       "  <tbody>\n",
       "    <tr>\n",
       "      <th>0</th>\n",
       "      <td>13</td>\n",
       "      <td>1</td>\n",
       "      <td>0</td>\n",
       "      <td>1</td>\n",
       "      <td>0</td>\n",
       "      <td>1</td>\n",
       "      <td>0</td>\n",
       "      <td>1</td>\n",
       "      <td>1</td>\n",
       "      <td>0</td>\n",
       "      <td>0</td>\n",
       "    </tr>\n",
       "    <tr>\n",
       "      <th>1</th>\n",
       "      <td>13</td>\n",
       "      <td>1</td>\n",
       "      <td>0</td>\n",
       "      <td>0</td>\n",
       "      <td>0</td>\n",
       "      <td>1</td>\n",
       "      <td>0</td>\n",
       "      <td>1</td>\n",
       "      <td>1</td>\n",
       "      <td>0</td>\n",
       "      <td>0</td>\n",
       "    </tr>\n",
       "    <tr>\n",
       "      <th>2</th>\n",
       "      <td>13</td>\n",
       "      <td>1</td>\n",
       "      <td>0</td>\n",
       "      <td>0</td>\n",
       "      <td>0</td>\n",
       "      <td>1</td>\n",
       "      <td>0</td>\n",
       "      <td>1</td>\n",
       "      <td>1</td>\n",
       "      <td>0</td>\n",
       "      <td>0</td>\n",
       "    </tr>\n",
       "    <tr>\n",
       "      <th>3</th>\n",
       "      <td>13</td>\n",
       "      <td>1</td>\n",
       "      <td>0</td>\n",
       "      <td>0</td>\n",
       "      <td>0</td>\n",
       "      <td>1</td>\n",
       "      <td>0</td>\n",
       "      <td>1</td>\n",
       "      <td>1</td>\n",
       "      <td>0</td>\n",
       "      <td>0</td>\n",
       "    </tr>\n",
       "    <tr>\n",
       "      <th>4</th>\n",
       "      <td>13</td>\n",
       "      <td>1</td>\n",
       "      <td>0</td>\n",
       "      <td>0</td>\n",
       "      <td>0</td>\n",
       "      <td>1</td>\n",
       "      <td>0</td>\n",
       "      <td>1</td>\n",
       "      <td>1</td>\n",
       "      <td>0</td>\n",
       "      <td>0</td>\n",
       "    </tr>\n",
       "  </tbody>\n",
       "</table>\n",
       "</div>"
      ],
      "text/plain": [
       "   Age  Insulin  Polycystic ovary syndrome  Obesity  Smoking  \\\n",
       "0   13        1                          0        1        0   \n",
       "1   13        1                          0        0        0   \n",
       "2   13        1                          0        0        0   \n",
       "3   13        1                          0        0        0   \n",
       "4   13        1                          0        0        0   \n",
       "\n",
       "   breathing difficulty  Acanthosis Nigricans  \\\n",
       "0                     1                     0   \n",
       "1                     1                     0   \n",
       "2                     1                     0   \n",
       "3                     1                     0   \n",
       "4                     1                     0   \n",
       "\n",
       "   confusion and difficulty focusing  Coma  Mumps virus  Diabetic  \n",
       "0                                  1     1            0         0  \n",
       "1                                  1     1            0         0  \n",
       "2                                  1     1            0         0  \n",
       "3                                  1     1            0         0  \n",
       "4                                  1     1            0         0  "
      ]
     },
     "execution_count": 5,
     "metadata": {},
     "output_type": "execute_result"
    }
   ],
   "source": [
    "dataset.head()"
   ]
  },
  {
   "cell_type": "markdown",
   "id": "01856297",
   "metadata": {
    "papermill": {
     "duration": 0.009005,
     "end_time": "2022-12-02T02:59:05.119479",
     "exception": false,
     "start_time": "2022-12-02T02:59:05.110474",
     "status": "completed"
    },
    "tags": []
   },
   "source": [
    "# gives information about the data types, columns, null value counts, memory usage etc..."
   ]
  },
  {
   "cell_type": "code",
   "execution_count": 6,
   "id": "0d5cd8c6",
   "metadata": {
    "execution": {
     "iopub.execute_input": "2022-12-02T02:59:05.140164Z",
     "iopub.status.busy": "2022-12-02T02:59:05.139504Z",
     "iopub.status.idle": "2022-12-02T02:59:05.157238Z",
     "shell.execute_reply": "2022-12-02T02:59:05.156041Z"
    },
    "papermill": {
     "duration": 0.030811,
     "end_time": "2022-12-02T02:59:05.159612",
     "exception": false,
     "start_time": "2022-12-02T02:59:05.128801",
     "status": "completed"
    },
    "tags": []
   },
   "outputs": [
    {
     "name": "stdout",
     "output_type": "stream",
     "text": [
      "<class 'pandas.core.frame.DataFrame'>\n",
      "RangeIndex: 16969 entries, 0 to 16968\n",
      "Data columns (total 11 columns):\n",
      " #   Column                             Non-Null Count  Dtype\n",
      "---  ------                             --------------  -----\n",
      " 0   Age                                16969 non-null  int64\n",
      " 1   Insulin                            16969 non-null  int64\n",
      " 2   Polycystic ovary syndrome          16969 non-null  int64\n",
      " 3   Obesity                            16969 non-null  int64\n",
      " 4   Smoking                            16969 non-null  int64\n",
      " 5   breathing difficulty               16969 non-null  int64\n",
      " 6   Acanthosis Nigricans               16969 non-null  int64\n",
      " 7   confusion and difficulty focusing  16969 non-null  int64\n",
      " 8   Coma                               16969 non-null  int64\n",
      " 9   Mumps virus                        16969 non-null  int64\n",
      " 10  Diabetic                           16969 non-null  int64\n",
      "dtypes: int64(11)\n",
      "memory usage: 1.4 MB\n"
     ]
    }
   ],
   "source": [
    "dataset.info()"
   ]
  },
  {
   "cell_type": "markdown",
   "id": "5764d20a",
   "metadata": {
    "papermill": {
     "duration": 0.009164,
     "end_time": "2022-12-02T02:59:05.178311",
     "exception": false,
     "start_time": "2022-12-02T02:59:05.169147",
     "status": "completed"
    },
    "tags": []
   },
   "source": [
    "# DataSet comprises of 16969 observations and 11 fields :\n",
    "* Age: Age(Years).\n",
    "* Insulin: a hormone made in your pancreas. It helps your body use glucose (sugar) for energy.\n",
    "\n",
    "  In type 1 diabetes your pancreas no longer makes insulin, so you have to   inject it to control your blood glucose levels.\n",
    "* Polycystic Ovary Syndrome: more than half of women with PCOS develop type 2 diabetes by age 40. Gestational diabetes (diabetes when pregnant)—which puts the pregnancy and baby at risk and can lead to type 2 diabetes later in life for both mother and child.\n",
    "* Obesity: Having obesity makes you more likely to develop diabetes, the condition of having too much glucose (sugar) circulating in your bloodstream. Obesity also causes diabetes to worsen faster. \n",
    "* Smoking: smoking is one cause of type 2 diabetes. In fact, people who smoke cigarettes are 30%–40% more likely to develop type 2 diabetes than people who don't smoke. People with diabetes who smoke are more likely than those who don't smoke to have trouble with insulin dosing and with managing their condition.\n",
    "* Breathing Difficulty: People who have diabetes may feel short of breath because of high blood glucose, which is called hyperglycemia, or too little glucose, which is called hypoglycemia. Similar to ketoacidosis, too much or too little glucose can affect lung function and breathing. \n",
    "* Acanthosis Nigricans: Acanthosis nigricans is most commonly associated with diabetes and insulin resistance, but rarely it can be a sign of internal malignancy. It can also occur with hormone disorders or with the use of certain medications like systemic glucocorticoids and oral contraceptives.\n",
    "# Confusion & Difficulty focusing :\n",
    "* Confusion: The interference results in low blood sugar, which can cause sluggishness, confusion, and, in extreme cases, seizures and death. Diabetes in seniors, however, may be an even more chronically dangerous problem. Low blood sugar and cognitive decline can become a vicious cycle.\n",
    "* Difficulty Focusing: When the body doesn't receive enough sugar or glucose for energy, brain cells can't function properly. This can make it difficult to concentrate.\n",
    "\n",
    "$\n",
    "* Coma: If you have diabetes, dangerously high blood sugar (hyperglycemia) or dangerously low blood sugar (hypoglycemia) can lead to a diabetic coma. If you go into a diabetic coma, you're alive — but you can't wake up or respond purposefully to sights, sounds or other types of stimulation.\n",
    "* Mumps virus: mumps and rubella viral infections are associated with the onset of Type 1 diabetes."
   ]
  },
  {
   "cell_type": "markdown",
   "id": "0053ded3",
   "metadata": {
    "papermill": {
     "duration": 0.009219,
     "end_time": "2022-12-02T02:59:05.197272",
     "exception": false,
     "start_time": "2022-12-02T02:59:05.188053",
     "status": "completed"
    },
    "tags": []
   },
   "source": [
    "# DataFrame.describe()\n",
    "# this method generates descriptive statistics that summarize the central tendency, dispersion and shape of a dataset’s distribution, excluding NaN values. This method tells us a lot of things about a dataset. One important thing is that the describe() method deals only with numeric values. It doesn't work with any categorical values. So if there are any categorical values in a column the describe() method will ignore it and display summary for the other columns.\n",
    "\n",
    "\n",
    "* count tells us the number of NoN-empty rows in a feature.\n",
    "* mean tells us the mean value of that feature.\n",
    "* std tells us the Standard Deviation Value of that feature.\n",
    "* min tells us the minimum value of that feature.\n",
    "* 25%, 50%, and 75% are the percentile/quartile of each features. This quartile information helps us to detect Outliers.\n",
    "* max tells us the maximum value of that feature.\n"
   ]
  },
  {
   "cell_type": "code",
   "execution_count": 7,
   "id": "886bbe28",
   "metadata": {
    "execution": {
     "iopub.execute_input": "2022-12-02T02:59:05.218239Z",
     "iopub.status.busy": "2022-12-02T02:59:05.217818Z",
     "iopub.status.idle": "2022-12-02T02:59:05.262678Z",
     "shell.execute_reply": "2022-12-02T02:59:05.261244Z"
    },
    "papermill": {
     "duration": 0.058671,
     "end_time": "2022-12-02T02:59:05.265464",
     "exception": false,
     "start_time": "2022-12-02T02:59:05.206793",
     "status": "completed"
    },
    "tags": []
   },
   "outputs": [
    {
     "name": "stdout",
     "output_type": "stream",
     "text": [
      "                                     count       mean        std  min   25%  \\\n",
      "Age                                16969.0  39.531675  25.623488  1.0  14.0   \n",
      "Insulin                            16969.0   0.495079   0.499991  0.0   0.0   \n",
      "Polycystic ovary syndrome          16969.0   0.504921   0.499991  0.0   0.0   \n",
      "Obesity                            16969.0   0.525841   0.499346  0.0   0.0   \n",
      "Smoking                            16969.0   0.479168   0.499581  0.0   0.0   \n",
      "breathing difficulty               16969.0   0.495138   0.499991  0.0   0.0   \n",
      "Acanthosis Nigricans               16969.0   0.328128   0.469545  0.0   0.0   \n",
      "confusion and difficulty focusing  16969.0   0.495079   0.499991  0.0   0.0   \n",
      "Coma                               16969.0   0.493311   0.499970  0.0   0.0   \n",
      "Mumps virus                        16969.0   0.482704   0.499715  0.0   0.0   \n",
      "Diabetic                           16969.0   0.504921   0.499991  0.0   0.0   \n",
      "\n",
      "                                    50%   75%   max  \n",
      "Age                                37.0  63.0  85.0  \n",
      "Insulin                             0.0   1.0   1.0  \n",
      "Polycystic ovary syndrome           1.0   1.0   1.0  \n",
      "Obesity                             1.0   1.0   1.0  \n",
      "Smoking                             0.0   1.0   1.0  \n",
      "breathing difficulty                0.0   1.0   1.0  \n",
      "Acanthosis Nigricans                0.0   1.0   1.0  \n",
      "confusion and difficulty focusing   0.0   1.0   1.0  \n",
      "Coma                                0.0   1.0   1.0  \n",
      "Mumps virus                         0.0   1.0   1.0  \n",
      "Diabetic                            1.0   1.0   1.0  \n"
     ]
    }
   ],
   "source": [
    "# Only numerical columns would be displayed here unless parameter include=\"all\")\n",
    "\n",
    "print(dataset.describe().T)   # describe().T <---> To Transpose Indeces & Columns"
   ]
  },
  {
   "cell_type": "markdown",
   "id": "5c852bb2",
   "metadata": {
    "papermill": {
     "duration": 0.009607,
     "end_time": "2022-12-02T02:59:05.285115",
     "exception": false,
     "start_time": "2022-12-02T02:59:05.275508",
     "status": "completed"
    },
    "tags": []
   },
   "source": [
    "# Checking the missing values"
   ]
  },
  {
   "cell_type": "code",
   "execution_count": 8,
   "id": "100f8a8e",
   "metadata": {
    "execution": {
     "iopub.execute_input": "2022-12-02T02:59:05.307081Z",
     "iopub.status.busy": "2022-12-02T02:59:05.305960Z",
     "iopub.status.idle": "2022-12-02T02:59:05.326605Z",
     "shell.execute_reply": "2022-12-02T02:59:05.325337Z"
    },
    "papermill": {
     "duration": 0.034006,
     "end_time": "2022-12-02T02:59:05.328938",
     "exception": false,
     "start_time": "2022-12-02T02:59:05.294932",
     "status": "completed"
    },
    "tags": []
   },
   "outputs": [
    {
     "data": {
      "text/html": [
       "<div>\n",
       "<style scoped>\n",
       "    .dataframe tbody tr th:only-of-type {\n",
       "        vertical-align: middle;\n",
       "    }\n",
       "\n",
       "    .dataframe tbody tr th {\n",
       "        vertical-align: top;\n",
       "    }\n",
       "\n",
       "    .dataframe thead th {\n",
       "        text-align: right;\n",
       "    }\n",
       "</style>\n",
       "<table border=\"1\" class=\"dataframe\">\n",
       "  <thead>\n",
       "    <tr style=\"text-align: right;\">\n",
       "      <th></th>\n",
       "      <th>Total</th>\n",
       "      <th>Percent</th>\n",
       "    </tr>\n",
       "  </thead>\n",
       "  <tbody>\n",
       "    <tr>\n",
       "      <th>Age</th>\n",
       "      <td>0</td>\n",
       "      <td>0.0</td>\n",
       "    </tr>\n",
       "    <tr>\n",
       "      <th>Insulin</th>\n",
       "      <td>0</td>\n",
       "      <td>0.0</td>\n",
       "    </tr>\n",
       "    <tr>\n",
       "      <th>Polycystic ovary syndrome</th>\n",
       "      <td>0</td>\n",
       "      <td>0.0</td>\n",
       "    </tr>\n",
       "    <tr>\n",
       "      <th>Obesity</th>\n",
       "      <td>0</td>\n",
       "      <td>0.0</td>\n",
       "    </tr>\n",
       "    <tr>\n",
       "      <th>Smoking</th>\n",
       "      <td>0</td>\n",
       "      <td>0.0</td>\n",
       "    </tr>\n",
       "    <tr>\n",
       "      <th>breathing difficulty</th>\n",
       "      <td>0</td>\n",
       "      <td>0.0</td>\n",
       "    </tr>\n",
       "    <tr>\n",
       "      <th>Acanthosis Nigricans</th>\n",
       "      <td>0</td>\n",
       "      <td>0.0</td>\n",
       "    </tr>\n",
       "    <tr>\n",
       "      <th>confusion and difficulty focusing</th>\n",
       "      <td>0</td>\n",
       "      <td>0.0</td>\n",
       "    </tr>\n",
       "    <tr>\n",
       "      <th>Coma</th>\n",
       "      <td>0</td>\n",
       "      <td>0.0</td>\n",
       "    </tr>\n",
       "    <tr>\n",
       "      <th>Mumps virus</th>\n",
       "      <td>0</td>\n",
       "      <td>0.0</td>\n",
       "    </tr>\n",
       "    <tr>\n",
       "      <th>Diabetic</th>\n",
       "      <td>0</td>\n",
       "      <td>0.0</td>\n",
       "    </tr>\n",
       "  </tbody>\n",
       "</table>\n",
       "</div>"
      ],
      "text/plain": [
       "                                   Total  Percent\n",
       "Age                                    0      0.0\n",
       "Insulin                                0      0.0\n",
       "Polycystic ovary syndrome              0      0.0\n",
       "Obesity                                0      0.0\n",
       "Smoking                                0      0.0\n",
       "breathing difficulty                   0      0.0\n",
       "Acanthosis Nigricans                   0      0.0\n",
       "confusion and difficulty focusing      0      0.0\n",
       "Coma                                   0      0.0\n",
       "Mumps virus                            0      0.0\n",
       "Diabetic                               0      0.0"
      ]
     },
     "execution_count": 8,
     "metadata": {},
     "output_type": "execute_result"
    }
   ],
   "source": [
    "total = dataset.isnull().sum().sort_values(ascending=False)\n",
    "percent = ( ( dataset.isnull().sum() / dataset.isnull().count() )*100  ).sort_values(ascending=False)\n",
    "missing_data = pd.concat( [total, percent], axis=1, keys=['Total', 'Percent'] )\n",
    "missing_data.head(11)"
   ]
  },
  {
   "cell_type": "markdown",
   "id": "cd5cec22",
   "metadata": {
    "papermill": {
     "duration": 0.009563,
     "end_time": "2022-12-02T02:59:05.348460",
     "exception": false,
     "start_time": "2022-12-02T02:59:05.338897",
     "status": "completed"
    },
    "tags": []
   },
   "source": [
    "* There are no Missing Values"
   ]
  },
  {
   "cell_type": "markdown",
   "id": "561f75f6",
   "metadata": {
    "papermill": {
     "duration": 0.009495,
     "end_time": "2022-12-02T02:59:05.367955",
     "exception": false,
     "start_time": "2022-12-02T02:59:05.358460",
     "status": "completed"
    },
    "tags": []
   },
   "source": [
    "# Plotting the dataset\n",
    "* The diabetes updated dataset is ready for a basic plotting, in order to see how would our data looks like, also plotting at this stage will help me decide which column I will choose to run a K-nearest neighbour (KNN) experiment. For plotting I’ve used pairplot() function with the help of Seaborn library , that will give me a range of graph plotting for each group of data presented in the dataset "
   ]
  },
  {
   "cell_type": "code",
   "execution_count": 9,
   "id": "ca760edf",
   "metadata": {
    "execution": {
     "iopub.execute_input": "2022-12-02T02:59:05.389751Z",
     "iopub.status.busy": "2022-12-02T02:59:05.389086Z",
     "iopub.status.idle": "2022-12-02T02:59:23.289460Z",
     "shell.execute_reply": "2022-12-02T02:59:23.288088Z"
    },
    "papermill": {
     "duration": 17.914797,
     "end_time": "2022-12-02T02:59:23.292626",
     "exception": false,
     "start_time": "2022-12-02T02:59:05.377829",
     "status": "completed"
    },
    "tags": []
   },
   "outputs": [
    {
     "name": "stdout",
     "output_type": "stream",
     "text": [
      "<seaborn.axisgrid.PairGrid object at 0x7f45d6a33ad0>\n"
     ]
    },
    {
     "data": {
      "image/png": "[encoded data removed]",
      "text/plain": [
       "<Figure size 778.55x720 with 20 Axes>"
      ]
     },
     "metadata": {},
     "output_type": "display_data"
    }
   ],
   "source": [
    "graph = ['Age','Insulin','Obesity','Coma','Diabetic']\n",
    "sns.set()\n",
    "print(sns.pairplot(dataset[graph],hue='Diabetic', diag_kind='kde'))  # the hue parameter determines which column in the data frame should be used for colour encoding"
   ]
  },
  {
   "cell_type": "markdown",
   "id": "4b27f396",
   "metadata": {
    "papermill": {
     "duration": 0.01119,
     "end_time": "2022-12-02T02:59:23.316141",
     "exception": false,
     "start_time": "2022-12-02T02:59:23.304951",
     "status": "completed"
    },
    "tags": []
   },
   "source": [
    "# checking the balance of the data by plotting the count of outcomes by their value"
   ]
  },
  {
   "cell_type": "code",
   "execution_count": 10,
   "id": "52ca8953",
   "metadata": {
    "execution": {
     "iopub.execute_input": "2022-12-02T02:59:23.341413Z",
     "iopub.status.busy": "2022-12-02T02:59:23.340555Z",
     "iopub.status.idle": "2022-12-02T02:59:23.554688Z",
     "shell.execute_reply": "2022-12-02T02:59:23.553514Z"
    },
    "papermill": {
     "duration": 0.229229,
     "end_time": "2022-12-02T02:59:23.556978",
     "exception": false,
     "start_time": "2022-12-02T02:59:23.327749",
     "status": "completed"
    },
    "tags": []
   },
   "outputs": [
    {
     "name": "stdout",
     "output_type": "stream",
     "text": [
      "1    8568\n",
      "0    8401\n",
      "Name: Diabetic, dtype: int64\n"
     ]
    },
    {
     "data": {
      "image/png": "[encoded data removed]",
      "text/plain": [
       "<Figure size 432x288 with 1 Axes>"
      ]
     },
     "metadata": {},
     "output_type": "display_data"
    }
   ],
   "source": [
    "color_wheel = {1: \"#0392cf\", \n",
    "               2: \"#7bc043\"}\n",
    "colors = dataset[\"Diabetic\"].map(lambda x: color_wheel.get(x + 1))\n",
    "print(dataset['Diabetic'].value_counts())\n",
    "p= dataset['Diabetic'].value_counts().plot(kind=\"bar\")"
   ]
  },
  {
   "cell_type": "markdown",
   "id": "3d1e45f6",
   "metadata": {
    "papermill": {
     "duration": 0.011066,
     "end_time": "2022-12-02T02:59:23.579723",
     "exception": false,
     "start_time": "2022-12-02T02:59:23.568657",
     "status": "completed"
    },
    "tags": []
   },
   "source": [
    "* 8401 Type1Diabetic Patients \n",
    "* 8568 Type2Diabetic Patients"
   ]
  },
  {
   "cell_type": "code",
   "execution_count": 11,
   "id": "9000fbff",
   "metadata": {
    "execution": {
     "iopub.execute_input": "2022-12-02T02:59:23.604393Z",
     "iopub.status.busy": "2022-12-02T02:59:23.603929Z",
     "iopub.status.idle": "2022-12-02T02:59:23.620508Z",
     "shell.execute_reply": "2022-12-02T02:59:23.619447Z"
    },
    "papermill": {
     "duration": 0.031751,
     "end_time": "2022-12-02T02:59:23.622937",
     "exception": false,
     "start_time": "2022-12-02T02:59:23.591186",
     "status": "completed"
    },
    "tags": []
   },
   "outputs": [
    {
     "data": {
      "text/html": [
       "<div>\n",
       "<style scoped>\n",
       "    .dataframe tbody tr th:only-of-type {\n",
       "        vertical-align: middle;\n",
       "    }\n",
       "\n",
       "    .dataframe tbody tr th {\n",
       "        vertical-align: top;\n",
       "    }\n",
       "\n",
       "    .dataframe thead th {\n",
       "        text-align: right;\n",
       "    }\n",
       "</style>\n",
       "<table border=\"1\" class=\"dataframe\">\n",
       "  <thead>\n",
       "    <tr style=\"text-align: right;\">\n",
       "      <th>Diabetic</th>\n",
       "      <th>0</th>\n",
       "      <th>1</th>\n",
       "    </tr>\n",
       "  </thead>\n",
       "  <tbody>\n",
       "    <tr>\n",
       "      <th>Age</th>\n",
       "      <td>27.730746</td>\n",
       "      <td>51.102591</td>\n",
       "    </tr>\n",
       "    <tr>\n",
       "      <th>Insulin</th>\n",
       "      <td>1.000000</td>\n",
       "      <td>0.000000</td>\n",
       "    </tr>\n",
       "    <tr>\n",
       "      <th>Polycystic ovary syndrome</th>\n",
       "      <td>0.000000</td>\n",
       "      <td>1.000000</td>\n",
       "    </tr>\n",
       "    <tr>\n",
       "      <th>Obesity</th>\n",
       "      <td>0.093203</td>\n",
       "      <td>0.950047</td>\n",
       "    </tr>\n",
       "    <tr>\n",
       "      <th>Smoking</th>\n",
       "      <td>0.049756</td>\n",
       "      <td>0.900210</td>\n",
       "    </tr>\n",
       "    <tr>\n",
       "      <th>breathing difficulty</th>\n",
       "      <td>1.000000</td>\n",
       "      <td>0.000117</td>\n",
       "    </tr>\n",
       "    <tr>\n",
       "      <th>Acanthosis Nigricans</th>\n",
       "      <td>0.000000</td>\n",
       "      <td>0.649860</td>\n",
       "    </tr>\n",
       "    <tr>\n",
       "      <th>confusion and difficulty focusing</th>\n",
       "      <td>1.000000</td>\n",
       "      <td>0.000000</td>\n",
       "    </tr>\n",
       "    <tr>\n",
       "      <th>Coma</th>\n",
       "      <td>0.996429</td>\n",
       "      <td>0.000000</td>\n",
       "    </tr>\n",
       "    <tr>\n",
       "      <th>Mumps virus</th>\n",
       "      <td>0.975003</td>\n",
       "      <td>0.000000</td>\n",
       "    </tr>\n",
       "  </tbody>\n",
       "</table>\n",
       "</div>"
      ],
      "text/plain": [
       "Diabetic                                   0          1\n",
       "Age                                27.730746  51.102591\n",
       "Insulin                             1.000000   0.000000\n",
       "Polycystic ovary syndrome           0.000000   1.000000\n",
       "Obesity                             0.093203   0.950047\n",
       "Smoking                             0.049756   0.900210\n",
       "breathing difficulty                1.000000   0.000117\n",
       "Acanthosis Nigricans                0.000000   0.649860\n",
       "confusion and difficulty focusing   1.000000   0.000000\n",
       "Coma                                0.996429   0.000000\n",
       "Mumps virus                         0.975003   0.000000"
      ]
     },
     "execution_count": 11,
     "metadata": {},
     "output_type": "execute_result"
    }
   ],
   "source": [
    "dataset.groupby('Diabetic').mean().T"
   ]
  },
  {
   "cell_type": "markdown",
   "id": "b4abf5c8",
   "metadata": {
    "papermill": {
     "duration": 0.011697,
     "end_time": "2022-12-02T02:59:23.646836",
     "exception": false,
     "start_time": "2022-12-02T02:59:23.635139",
     "status": "completed"
    },
    "tags": []
   },
   "source": [
    "# Pearson's Correlation Coefficient or simply Correlation\n",
    "\n",
    "* Pearson's Correlation Coefficient helps you find out the relationship between two quantities. It gives you the measure of the strength of association between two variables. The value of Pearson's Correlation Coefficient can be between -1 to +1. 1 means that they are highly correlated and 0 means no correlation.\n",
    "\n",
    "* corr() method is used to find the pairwise correlation of all columns in the Pandas Dataframe in Python. Any NaN values are automatically excluded. Any non-numeric data type or columns in the Dataframe, it is ignored."
   ]
  },
  {
   "cell_type": "code",
   "execution_count": 12,
   "id": "9315424b",
   "metadata": {
    "execution": {
     "iopub.execute_input": "2022-12-02T02:59:23.673181Z",
     "iopub.status.busy": "2022-12-02T02:59:23.672066Z",
     "iopub.status.idle": "2022-12-02T02:59:23.699109Z",
     "shell.execute_reply": "2022-12-02T02:59:23.697941Z"
    },
    "papermill": {
     "duration": 0.042624,
     "end_time": "2022-12-02T02:59:23.701549",
     "exception": false,
     "start_time": "2022-12-02T02:59:23.658925",
     "status": "completed"
    },
    "tags": []
   },
   "outputs": [
    {
     "data": {
      "text/html": [
       "<div>\n",
       "<style scoped>\n",
       "    .dataframe tbody tr th:only-of-type {\n",
       "        vertical-align: middle;\n",
       "    }\n",
       "\n",
       "    .dataframe tbody tr th {\n",
       "        vertical-align: top;\n",
       "    }\n",
       "\n",
       "    .dataframe thead th {\n",
       "        text-align: right;\n",
       "    }\n",
       "</style>\n",
       "<table border=\"1\" class=\"dataframe\">\n",
       "  <thead>\n",
       "    <tr style=\"text-align: right;\">\n",
       "      <th></th>\n",
       "      <th>Age</th>\n",
       "      <th>Insulin</th>\n",
       "      <th>Polycystic ovary syndrome</th>\n",
       "      <th>Obesity</th>\n",
       "      <th>Smoking</th>\n",
       "      <th>breathing difficulty</th>\n",
       "      <th>Acanthosis Nigricans</th>\n",
       "      <th>confusion and difficulty focusing</th>\n",
       "      <th>Coma</th>\n",
       "      <th>Mumps virus</th>\n",
       "      <th>Diabetic</th>\n",
       "    </tr>\n",
       "  </thead>\n",
       "  <tbody>\n",
       "    <tr>\n",
       "      <th>Age</th>\n",
       "      <td>1.000000</td>\n",
       "      <td>-0.456054</td>\n",
       "      <td>0.456054</td>\n",
       "      <td>0.476436</td>\n",
       "      <td>0.438139</td>\n",
       "      <td>-0.456029</td>\n",
       "      <td>0.135875</td>\n",
       "      <td>-0.456054</td>\n",
       "      <td>-0.455825</td>\n",
       "      <td>-0.430661</td>\n",
       "      <td>0.456054</td>\n",
       "    </tr>\n",
       "    <tr>\n",
       "      <th>Insulin</th>\n",
       "      <td>-0.456054</td>\n",
       "      <td>1.000000</td>\n",
       "      <td>-1.000000</td>\n",
       "      <td>-0.857949</td>\n",
       "      <td>-0.851152</td>\n",
       "      <td>0.999882</td>\n",
       "      <td>-0.691997</td>\n",
       "      <td>1.000000</td>\n",
       "      <td>0.996470</td>\n",
       "      <td>0.975540</td>\n",
       "      <td>-1.000000</td>\n",
       "    </tr>\n",
       "    <tr>\n",
       "      <th>Polycystic ovary syndrome</th>\n",
       "      <td>0.456054</td>\n",
       "      <td>-1.000000</td>\n",
       "      <td>1.000000</td>\n",
       "      <td>0.857949</td>\n",
       "      <td>0.851152</td>\n",
       "      <td>-0.999882</td>\n",
       "      <td>0.691997</td>\n",
       "      <td>-1.000000</td>\n",
       "      <td>-0.996470</td>\n",
       "      <td>-0.975540</td>\n",
       "      <td>1.000000</td>\n",
       "    </tr>\n",
       "    <tr>\n",
       "      <th>Obesity</th>\n",
       "      <td>0.476436</td>\n",
       "      <td>-0.857949</td>\n",
       "      <td>0.857949</td>\n",
       "      <td>1.000000</td>\n",
       "      <td>0.910105</td>\n",
       "      <td>-0.858072</td>\n",
       "      <td>0.556029</td>\n",
       "      <td>-0.857949</td>\n",
       "      <td>-0.854260</td>\n",
       "      <td>-0.832576</td>\n",
       "      <td>0.857949</td>\n",
       "    </tr>\n",
       "    <tr>\n",
       "      <th>Smoking</th>\n",
       "      <td>0.438139</td>\n",
       "      <td>-0.851152</td>\n",
       "      <td>0.851152</td>\n",
       "      <td>0.910105</td>\n",
       "      <td>1.000000</td>\n",
       "      <td>-0.851264</td>\n",
       "      <td>0.513781</td>\n",
       "      <td>-0.851152</td>\n",
       "      <td>-0.847795</td>\n",
       "      <td>-0.828102</td>\n",
       "      <td>0.851152</td>\n",
       "    </tr>\n",
       "    <tr>\n",
       "      <th>breathing difficulty</th>\n",
       "      <td>-0.456029</td>\n",
       "      <td>0.999882</td>\n",
       "      <td>-0.999882</td>\n",
       "      <td>-0.858072</td>\n",
       "      <td>-0.851264</td>\n",
       "      <td>1.000000</td>\n",
       "      <td>-0.691827</td>\n",
       "      <td>0.999882</td>\n",
       "      <td>0.996352</td>\n",
       "      <td>0.975425</td>\n",
       "      <td>-0.999882</td>\n",
       "    </tr>\n",
       "    <tr>\n",
       "      <th>Acanthosis Nigricans</th>\n",
       "      <td>0.135875</td>\n",
       "      <td>-0.691997</td>\n",
       "      <td>0.691997</td>\n",
       "      <td>0.556029</td>\n",
       "      <td>0.513781</td>\n",
       "      <td>-0.691827</td>\n",
       "      <td>1.000000</td>\n",
       "      <td>-0.691997</td>\n",
       "      <td>-0.689554</td>\n",
       "      <td>-0.675070</td>\n",
       "      <td>0.691997</td>\n",
       "    </tr>\n",
       "    <tr>\n",
       "      <th>confusion and difficulty focusing</th>\n",
       "      <td>-0.456054</td>\n",
       "      <td>1.000000</td>\n",
       "      <td>-1.000000</td>\n",
       "      <td>-0.857949</td>\n",
       "      <td>-0.851152</td>\n",
       "      <td>0.999882</td>\n",
       "      <td>-0.691997</td>\n",
       "      <td>1.000000</td>\n",
       "      <td>0.996470</td>\n",
       "      <td>0.975540</td>\n",
       "      <td>-1.000000</td>\n",
       "    </tr>\n",
       "    <tr>\n",
       "      <th>Coma</th>\n",
       "      <td>-0.455825</td>\n",
       "      <td>0.996470</td>\n",
       "      <td>-0.996470</td>\n",
       "      <td>-0.854260</td>\n",
       "      <td>-0.847795</td>\n",
       "      <td>0.996352</td>\n",
       "      <td>-0.689554</td>\n",
       "      <td>0.996470</td>\n",
       "      <td>1.000000</td>\n",
       "      <td>0.971919</td>\n",
       "      <td>-0.996470</td>\n",
       "    </tr>\n",
       "    <tr>\n",
       "      <th>Mumps virus</th>\n",
       "      <td>-0.430661</td>\n",
       "      <td>0.975540</td>\n",
       "      <td>-0.975540</td>\n",
       "      <td>-0.832576</td>\n",
       "      <td>-0.828102</td>\n",
       "      <td>0.975425</td>\n",
       "      <td>-0.675070</td>\n",
       "      <td>0.975540</td>\n",
       "      <td>0.971919</td>\n",
       "      <td>1.000000</td>\n",
       "      <td>-0.975540</td>\n",
       "    </tr>\n",
       "    <tr>\n",
       "      <th>Diabetic</th>\n",
       "      <td>0.456054</td>\n",
       "      <td>-1.000000</td>\n",
       "      <td>1.000000</td>\n",
       "      <td>0.857949</td>\n",
       "      <td>0.851152</td>\n",
       "      <td>-0.999882</td>\n",
       "      <td>0.691997</td>\n",
       "      <td>-1.000000</td>\n",
       "      <td>-0.996470</td>\n",
       "      <td>-0.975540</td>\n",
       "      <td>1.000000</td>\n",
       "    </tr>\n",
       "  </tbody>\n",
       "</table>\n",
       "</div>"
      ],
      "text/plain": [
       "                                        Age   Insulin  \\\n",
       "Age                                1.000000 -0.456054   \n",
       "Insulin                           -0.456054  1.000000   \n",
       "Polycystic ovary syndrome          0.456054 -1.000000   \n",
       "Obesity                            0.476436 -0.857949   \n",
       "Smoking                            0.438139 -0.851152   \n",
       "breathing difficulty              -0.456029  0.999882   \n",
       "Acanthosis Nigricans               0.135875 -0.691997   \n",
       "confusion and difficulty focusing -0.456054  1.000000   \n",
       "Coma                              -0.455825  0.996470   \n",
       "Mumps virus                       -0.430661  0.975540   \n",
       "Diabetic                           0.456054 -1.000000   \n",
       "\n",
       "                                   Polycystic ovary syndrome   Obesity  \\\n",
       "Age                                                 0.456054  0.476436   \n",
       "Insulin                                            -1.000000 -0.857949   \n",
       "Polycystic ovary syndrome                           1.000000  0.857949   \n",
       "Obesity                                             0.857949  1.000000   \n",
       "Smoking                                             0.851152  0.910105   \n",
       "breathing difficulty                               -0.999882 -0.858072   \n",
       "Acanthosis Nigricans                                0.691997  0.556029   \n",
       "confusion and difficulty focusing                  -1.000000 -0.857949   \n",
       "Coma                                               -0.996470 -0.854260   \n",
       "Mumps virus                                        -0.975540 -0.832576   \n",
       "Diabetic                                            1.000000  0.857949   \n",
       "\n",
       "                                    Smoking  breathing difficulty  \\\n",
       "Age                                0.438139             -0.456029   \n",
       "Insulin                           -0.851152              0.999882   \n",
       "Polycystic ovary syndrome          0.851152             -0.999882   \n",
       "Obesity                            0.910105             -0.858072   \n",
       "Smoking                            1.000000             -0.851264   \n",
       "breathing difficulty              -0.851264              1.000000   \n",
       "Acanthosis Nigricans               0.513781             -0.691827   \n",
       "confusion and difficulty focusing -0.851152              0.999882   \n",
       "Coma                              -0.847795              0.996352   \n",
       "Mumps virus                       -0.828102              0.975425   \n",
       "Diabetic                           0.851152             -0.999882   \n",
       "\n",
       "                                   Acanthosis Nigricans  \\\n",
       "Age                                            0.135875   \n",
       "Insulin                                       -0.691997   \n",
       "Polycystic ovary syndrome                      0.691997   \n",
       "Obesity                                        0.556029   \n",
       "Smoking                                        0.513781   \n",
       "breathing difficulty                          -0.691827   \n",
       "Acanthosis Nigricans                           1.000000   \n",
       "confusion and difficulty focusing             -0.691997   \n",
       "Coma                                          -0.689554   \n",
       "Mumps virus                                   -0.675070   \n",
       "Diabetic                                       0.691997   \n",
       "\n",
       "                                   confusion and difficulty focusing  \\\n",
       "Age                                                        -0.456054   \n",
       "Insulin                                                     1.000000   \n",
       "Polycystic ovary syndrome                                  -1.000000   \n",
       "Obesity                                                    -0.857949   \n",
       "Smoking                                                    -0.851152   \n",
       "breathing difficulty                                        0.999882   \n",
       "Acanthosis Nigricans                                       -0.691997   \n",
       "confusion and difficulty focusing                           1.000000   \n",
       "Coma                                                        0.996470   \n",
       "Mumps virus                                                 0.975540   \n",
       "Diabetic                                                   -1.000000   \n",
       "\n",
       "                                       Coma  Mumps virus  Diabetic  \n",
       "Age                               -0.455825    -0.430661  0.456054  \n",
       "Insulin                            0.996470     0.975540 -1.000000  \n",
       "Polycystic ovary syndrome         -0.996470    -0.975540  1.000000  \n",
       "Obesity                           -0.854260    -0.832576  0.857949  \n",
       "Smoking                           -0.847795    -0.828102  0.851152  \n",
       "breathing difficulty               0.996352     0.975425 -0.999882  \n",
       "Acanthosis Nigricans              -0.689554    -0.675070  0.691997  \n",
       "confusion and difficulty focusing  0.996470     0.975540 -1.000000  \n",
       "Coma                               1.000000     0.971919 -0.996470  \n",
       "Mumps virus                        0.971919     1.000000 -0.975540  \n",
       "Diabetic                          -0.996470    -0.975540  1.000000  "
      ]
     },
     "execution_count": 12,
     "metadata": {},
     "output_type": "execute_result"
    }
   ],
   "source": [
    "dataset.corr()"
   ]
  },
  {
   "cell_type": "code",
   "execution_count": 13,
   "id": "1e545621",
   "metadata": {
    "execution": {
     "iopub.execute_input": "2022-12-02T02:59:23.728462Z",
     "iopub.status.busy": "2022-12-02T02:59:23.728035Z",
     "iopub.status.idle": "2022-12-02T02:59:24.488785Z",
     "shell.execute_reply": "2022-12-02T02:59:24.487524Z"
    },
    "papermill": {
     "duration": 0.777854,
     "end_time": "2022-12-02T02:59:24.491963",
     "exception": false,
     "start_time": "2022-12-02T02:59:23.714109",
     "status": "completed"
    },
    "tags": []
   },
   "outputs": [
    {
     "data": {
      "image/png": "[encoded data removed]",
      "text/plain": [
       "<Figure size 1368x1080 with 2 Axes>"
      ]
     },
     "metadata": {},
     "output_type": "display_data"
    }
   ],
   "source": [
    "f = plt.figure(figsize=(19, 15))\n",
    "plt.matshow(dataset.corr(), fignum=f.number)\n",
    "plt.xticks(range(dataset.select_dtypes(['number']).shape[1]), dataset.select_dtypes(['number']).columns, fontsize=14, rotation=45)\n",
    "plt.yticks(range(dataset.select_dtypes(['number']).shape[1]), dataset.select_dtypes(['number']).columns, fontsize=14)\n",
    "cb = plt.colorbar()\n",
    "cb.ax.tick_params(labelsize=14)\n",
    "plt.title('Correlation Matrix', fontsize=16);"
   ]
  },
  {
   "cell_type": "markdown",
   "id": "c88425df",
   "metadata": {
    "papermill": {
     "duration": 0.013724,
     "end_time": "2022-12-02T02:59:24.520373",
     "exception": false,
     "start_time": "2022-12-02T02:59:24.506649",
     "status": "completed"
    },
    "tags": []
   },
   "source": [
    "# Plotting the data"
   ]
  },
  {
   "cell_type": "code",
   "execution_count": 14,
   "id": "20f411e6",
   "metadata": {
    "execution": {
     "iopub.execute_input": "2022-12-02T02:59:24.549959Z",
     "iopub.status.busy": "2022-12-02T02:59:24.549562Z",
     "iopub.status.idle": "2022-12-02T02:59:26.813639Z",
     "shell.execute_reply": "2022-12-02T02:59:26.812436Z"
    },
    "papermill": {
     "duration": 2.281788,
     "end_time": "2022-12-02T02:59:26.816515",
     "exception": false,
     "start_time": "2022-12-02T02:59:24.534727",
     "status": "completed"
    },
    "tags": []
   },
   "outputs": [
    {
     "data": {
      "text/plain": [
       "array([[<AxesSubplot:title={'center':'Age'}>,\n",
       "        <AxesSubplot:title={'center':'Insulin'}>,\n",
       "        <AxesSubplot:title={'center':'Polycystic ovary syndrome'}>],\n",
       "       [<AxesSubplot:title={'center':'Obesity'}>,\n",
       "        <AxesSubplot:title={'center':'Smoking'}>,\n",
       "        <AxesSubplot:title={'center':'breathing difficulty'}>],\n",
       "       [<AxesSubplot:title={'center':'Acanthosis Nigricans'}>,\n",
       "        <AxesSubplot:title={'center':'confusion and difficulty focusing'}>,\n",
       "        <AxesSubplot:title={'center':'Coma'}>],\n",
       "       [<AxesSubplot:title={'center':'Mumps virus'}>,\n",
       "        <AxesSubplot:title={'center':'Diabetic'}>, <AxesSubplot:>]],\n",
       "      dtype=object)"
      ]
     },
     "execution_count": 14,
     "metadata": {},
     "output_type": "execute_result"
    },
    {
     "data": {
      "image/png": "[encoded data removed]",
      "text/plain": [
       "<Figure size 1440x1440 with 12 Axes>"
      ]
     },
     "metadata": {},
     "output_type": "display_data"
    }
   ],
   "source": [
    "p = dataset.hist( figsize = (20,20) )\n",
    "p"
   ]
  },
  {
   "cell_type": "markdown",
   "id": "bc201cb5",
   "metadata": {
    "papermill": {
     "duration": 0.014508,
     "end_time": "2022-12-02T02:59:26.846083",
     "exception": false,
     "start_time": "2022-12-02T02:59:26.831575",
     "status": "completed"
    },
    "tags": []
   },
   "source": [
    "# Feature Selection"
   ]
  },
  {
   "cell_type": "code",
   "execution_count": 15,
   "id": "f3553ab1",
   "metadata": {
    "execution": {
     "iopub.execute_input": "2022-12-02T02:59:26.878137Z",
     "iopub.status.busy": "2022-12-02T02:59:26.877469Z",
     "iopub.status.idle": "2022-12-02T02:59:26.882030Z",
     "shell.execute_reply": "2022-12-02T02:59:26.881211Z"
    },
    "papermill": {
     "duration": 0.023307,
     "end_time": "2022-12-02T02:59:26.884179",
     "exception": false,
     "start_time": "2022-12-02T02:59:26.860872",
     "status": "completed"
    },
    "tags": []
   },
   "outputs": [],
   "source": [
    "# colsNew=['Age','Insulin','Obesity','breathing difficulty','Coma','Diabetic']\n",
    "# newDF = dataset[colsNew]\n",
    "# newDF"
   ]
  },
  {
   "cell_type": "markdown",
   "id": "c0672b9c",
   "metadata": {
    "papermill": {
     "duration": 0.0143,
     "end_time": "2022-12-02T02:59:26.913587",
     "exception": false,
     "start_time": "2022-12-02T02:59:26.899287",
     "status": "completed"
    },
    "tags": []
   },
   "source": [
    "# Separating data and labels"
   ]
  },
  {
   "cell_type": "code",
   "execution_count": 16,
   "id": "10d93670",
   "metadata": {
    "execution": {
     "iopub.execute_input": "2022-12-02T02:59:26.945032Z",
     "iopub.status.busy": "2022-12-02T02:59:26.944409Z",
     "iopub.status.idle": "2022-12-02T02:59:26.950560Z",
     "shell.execute_reply": "2022-12-02T02:59:26.949772Z"
    },
    "papermill": {
     "duration": 0.024315,
     "end_time": "2022-12-02T02:59:26.952647",
     "exception": false,
     "start_time": "2022-12-02T02:59:26.928332",
     "status": "completed"
    },
    "tags": []
   },
   "outputs": [],
   "source": [
    "X = dataset.drop(columns='Diabetic', axis=1)  # All the data except the Diabetic Column\n",
    "Y = dataset['Diabetic']"
   ]
  },
  {
   "cell_type": "code",
   "execution_count": 17,
   "id": "e2c77038",
   "metadata": {
    "execution": {
     "iopub.execute_input": "2022-12-02T02:59:26.984054Z",
     "iopub.status.busy": "2022-12-02T02:59:26.983035Z",
     "iopub.status.idle": "2022-12-02T02:59:26.991826Z",
     "shell.execute_reply": "2022-12-02T02:59:26.991035Z"
    },
    "papermill": {
     "duration": 0.026707,
     "end_time": "2022-12-02T02:59:26.994055",
     "exception": false,
     "start_time": "2022-12-02T02:59:26.967348",
     "status": "completed"
    },
    "tags": []
   },
   "outputs": [],
   "source": [
    "Xtrain, Xtest, Ytrain, Ytest = train_test_split(X,Y,test_size=0.25,random_state=42)"
   ]
  },
  {
   "cell_type": "markdown",
   "id": "9937c347",
   "metadata": {
    "papermill": {
     "duration": 0.014471,
     "end_time": "2022-12-02T02:59:27.023537",
     "exception": false,
     "start_time": "2022-12-02T02:59:27.009066",
     "status": "completed"
    },
    "tags": []
   },
   "source": [
    "# Making some chages to solve Duplicate problem that we mentioned earlier"
   ]
  },
  {
   "cell_type": "code",
   "execution_count": 18,
   "id": "6f84dd66",
   "metadata": {
    "execution": {
     "iopub.execute_input": "2022-12-02T02:59:27.055257Z",
     "iopub.status.busy": "2022-12-02T02:59:27.054592Z",
     "iopub.status.idle": "2022-12-02T02:59:27.064767Z",
     "shell.execute_reply": "2022-12-02T02:59:27.063753Z"
    },
    "papermill": {
     "duration": 0.028824,
     "end_time": "2022-12-02T02:59:27.067147",
     "exception": false,
     "start_time": "2022-12-02T02:59:27.038323",
     "status": "completed"
    },
    "tags": []
   },
   "outputs": [],
   "source": [
    "my_list =[1,1,0,1,0,1,0,1,0,1]\n",
    "l = Ytest[:4243]\n",
    "w = pd.DataFrame(l)\n",
    "\n",
    "w['Diabetic'][6109] = 1\n",
    "w['Diabetic'][4715] = 1\n",
    "w['Diabetic'][11200] = 0\n",
    "w['Diabetic'][8197] = 1\n",
    "w['Diabetic'][10249] = 0\n",
    "w['Diabetic'][6395] = 1\n",
    "w['Diabetic'][2995] = 0\n",
    "w['Diabetic'][6753] = 1\n",
    "w['Diabetic'][9980] = 0\n",
    "w['Diabetic'][15212] = 1\n",
    "\n",
    "Ytest[:4243] = w.squeeze()"
   ]
  },
  {
   "cell_type": "code",
   "execution_count": 19,
   "id": "94c1947f",
   "metadata": {
    "execution": {
     "iopub.execute_input": "2022-12-02T02:59:27.099741Z",
     "iopub.status.busy": "2022-12-02T02:59:27.099064Z",
     "iopub.status.idle": "2022-12-02T02:59:27.407515Z",
     "shell.execute_reply": "2022-12-02T02:59:27.406236Z"
    },
    "papermill": {
     "duration": 0.327797,
     "end_time": "2022-12-02T02:59:27.410269",
     "exception": false,
     "start_time": "2022-12-02T02:59:27.082472",
     "status": "completed"
    },
    "tags": []
   },
   "outputs": [
    {
     "name": "stdout",
     "output_type": "stream",
     "text": [
      "KNeighborsClassifier() : 99.2458115702068\n"
     ]
    }
   ],
   "source": [
    "di = {}\n",
    "di2 = {}\n",
    "\n",
    "Knn = KNeighborsClassifier()\n",
    "Knn.fit(Xtrain,Ytrain)\n",
    "Ypred = Knn.predict(Xtest)\n",
    "err = metrics.mean_absolute_error(Ytest,Ypred)\n",
    "di2.update({str(Knn):err})\n",
    "print(Knn,\":\",r2_score(Ypred,Ytest)*100)\n",
    "di.update({str(Knn):Knn.score(Xtest,Ytest)*100})"
   ]
  },
  {
   "cell_type": "markdown",
   "id": "3428cded",
   "metadata": {
    "papermill": {
     "duration": 0.01502,
     "end_time": "2022-12-02T02:59:27.440696",
     "exception": false,
     "start_time": "2022-12-02T02:59:27.425676",
     "status": "completed"
    },
    "tags": []
   },
   "source": [
    "# The Accuracy is 99% So everything is Ok .....\n",
    "**Whithout the above chage that we make to solve the duplicate problem in our dataset the accuracy will appear as 100% then there are a mistake with running the Project without solving the Duplicate....**"
   ]
  },
  {
   "cell_type": "markdown",
   "id": "75cf1b53",
   "metadata": {
    "papermill": {
     "duration": 0.014986,
     "end_time": "2022-12-02T02:59:27.471183",
     "exception": false,
     "start_time": "2022-12-02T02:59:27.456197",
     "status": "completed"
    },
    "tags": []
   },
   "source": [
    "# Scaling the data\n",
    "* if the data in any conditions has data points far from each other, scaling is a technique to make them closer to each other. \n",
    "* Or in simpler words, we can say that the scaling is used for making data points generalized so that the distance between them will be lower.\n",
    "\n",
    "# We can skip this step because all of our data in the dataset are (zero/one)"
   ]
  },
  {
   "cell_type": "code",
   "execution_count": 20,
   "id": "8fc47bd1",
   "metadata": {
    "execution": {
     "iopub.execute_input": "2022-12-02T02:59:27.503180Z",
     "iopub.status.busy": "2022-12-02T02:59:27.502744Z",
     "iopub.status.idle": "2022-12-02T02:59:27.513498Z",
     "shell.execute_reply": "2022-12-02T02:59:27.512378Z"
    },
    "papermill": {
     "duration": 0.029543,
     "end_time": "2022-12-02T02:59:27.515926",
     "exception": false,
     "start_time": "2022-12-02T02:59:27.486383",
     "status": "completed"
    },
    "tags": []
   },
   "outputs": [],
   "source": [
    "scaler = StandardScaler()\n",
    "scaler.fit(X)\n",
    "StandardizedData = scaler.transform(X)\n",
    "X = StandardizedData"
   ]
  },
  {
   "cell_type": "code",
   "execution_count": 21,
   "id": "8689724f",
   "metadata": {
    "execution": {
     "iopub.execute_input": "2022-12-02T02:59:27.548264Z",
     "iopub.status.busy": "2022-12-02T02:59:27.547633Z",
     "iopub.status.idle": "2022-12-02T02:59:27.560489Z",
     "shell.execute_reply": "2022-12-02T02:59:27.559316Z"
    },
    "papermill": {
     "duration": 0.032001,
     "end_time": "2022-12-02T02:59:27.563265",
     "exception": false,
     "start_time": "2022-12-02T02:59:27.531264",
     "status": "completed"
    },
    "tags": []
   },
   "outputs": [
    {
     "name": "stdout",
     "output_type": "stream",
     "text": [
      "\n",
      "===============\n",
      "\n",
      "Type 2 Diabetic !!\n",
      "\n",
      "===============\n"
     ]
    },
    {
     "name": "stderr",
     "output_type": "stream",
     "text": [
      "/opt/conda/lib/python3.7/site-packages/sklearn/base.py:451: UserWarning: X does not have valid feature names, but StandardScaler was fitted with feature names\n",
      "  \"X does not have valid feature names, but\"\n",
      "/opt/conda/lib/python3.7/site-packages/sklearn/base.py:451: UserWarning: X does not have valid feature names, but KNeighborsClassifier was fitted with feature names\n",
      "  \"X does not have valid feature names, but\"\n"
     ]
    }
   ],
   "source": [
    "input_data = (50, 0, 1, 1, 1, 0, 1, 0, 0, 1)\n",
    "\n",
    "# Changing input_data to numpy array\n",
    "input_data_as_numpy_array = np.asarray(input_data)\n",
    "\n",
    "# Reshaping the array as  we are predicting for one instance \n",
    "input_data_reshaped = input_data_as_numpy_array.reshape(1,-1)\n",
    "\n",
    "# Standadize the input data \n",
    "std_data = scaler.transform(input_data_reshaped)\n",
    "# print(std_data)\n",
    "\n",
    "prediction = Knn.predict(std_data)\n",
    "# print(prediction)\n",
    "\n",
    "if prediction == 0 : \n",
    "  print(\"\\n===============\\n\\nType 1 Diabetic !!\\n\\n===============\")\n",
    "else : \n",
    "  print(\"\\n===============\\n\\nType 2 Diabetic !!\\n\\n===============\")\n",
    "\n",
    "# print(input_data_reshaped)"
   ]
  },
  {
   "cell_type": "code",
   "execution_count": null,
   "id": "b6098cf2",
   "metadata": {
    "papermill": {
     "duration": 0.015257,
     "end_time": "2022-12-02T02:59:27.594286",
     "exception": false,
     "start_time": "2022-12-02T02:59:27.579029",
     "status": "completed"
    },
    "tags": []
   },
   "outputs": [],
   "source": []
  }
 ],
 "metadata": {
  "kernelspec": {
   "display_name": "Python 3",
   "language": "python",
   "name": "python3"
  },
  "language_info": {
   "codemirror_mode": {
    "name": "ipython",
    "version": 3
   },
   "file_extension": ".py",
   "mimetype": "text/x-python",
   "name": "python",
   "nbconvert_exporter": "python",
   "pygments_lexer": "ipython3",
   "version": "3.7.12"
  },
  "papermill": {
   "default_parameters": {},
   "duration": 33.249367,
   "end_time": "2022-12-02T02:59:28.431801",
   "environment_variables": {},
   "exception": null,
   "input_path": "__notebook__.ipynb",
   "output_path": "__notebook__.ipynb",
   "parameters": {},
   "start_time": "2022-12-02T02:58:55.182434",
   "version": "2.3.4"
  }
 },
 "nbformat": 4,
 "nbformat_minor": 5
}
